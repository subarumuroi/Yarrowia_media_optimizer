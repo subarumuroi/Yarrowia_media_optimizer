{
 "cells": [
  {
   "cell_type": "markdown",
   "metadata": {},
   "source": [
    "# Long format generator\n",
    "### this script converts the current Yarrowia media pretest comparing 96vs24 manual vs machine pipetting in xlsx into long format in csv.\n",
    "\n",
    "#### this can be repeated by making some minor changes to be applied to create the same files for Green Values instead of OD."
   ]
  },
  {
   "cell_type": "markdown",
   "metadata": {},
   "source": []
  },
  {
   "cell_type": "code",
   "execution_count": 11,
   "metadata": {},
   "outputs": [
    {
     "name": "stdout",
     "output_type": "stream",
     "text": [
      "  WellID  OD600      Time    Media  Replicate    Condition\n",
      "0     A1  0.185  0.000000  Media_1          1  OD96_Manual\n",
      "1     A1  0.179  0.087500  Media_1          1  OD96_Manual\n",
      "2     A1  0.179  0.820833  Media_1          1  OD96_Manual\n",
      "3     A1  0.185  1.325000  Media_1          1  OD96_Manual\n",
      "4     A1  0.185  1.820833  Media_1          1  OD96_Manual\n"
     ]
    }
   ],
   "source": [
    "import pandas as pd\n",
    "\n",
    "pathxlsx = 'data/Growth Profiler Results 96v24 pretest.xlsx'\n",
    "\n",
    "# Define mappings for all sheets:\n",
    "mappings = {\n",
    "    'OD96_Manual': pd.DataFrame({\n",
    "        'WellID': ['A1','A2','A3','B1','B2','B3','C1','C2','C3', \n",
    "            'A4','A5','A6','B4','B5','B6','C4','C5','C6',\n",
    "            'A7','A8','A9','B7','B8','B9','C7','C8','C9',\n",
    "            'A10','A11','A12','B10','B11','B12','C10','C11','C12'],\n",
    "        'Media': ['Media_1']*9 + ['Media_2']*9 + ['Media_3']*9 + ['Media_4']*9,\n",
    "        'Replicate': [1,2,3,4,5,6,7,8,9,\n",
    "                    1,2,3,4,5,6,7,8,9,\n",
    "                    1,2,3,4,5,6,7,8,9,\n",
    "                    1,2,3,4,5,6,7,8,9],\n",
    "        'Condition': ['OD96_Manual']*36\n",
    "    }),\n",
    "    'OD96_Robot': pd.DataFrame({\n",
    "        'WellID': ['A1','A2','A3','A4','A5','A6','D4','D5','D6','A7','A8','A9','A10','A11','A12'],\n",
    "        'Media': ['Media_1']*3 + ['Media_2']*6 + ['Media_3']*3 + ['Media_4']*3,\n",
    "        'Replicate': [1,2,3,1,2,3,4,5,6,1,2,3,1,2,3],\n",
    "        'Condition': ['OD96_Robot']*15\n",
    "    }),\n",
    "    'OD24_Manual': pd.DataFrame({\n",
    "        'WellID': ['A1','A2','A3','A4','A5','A6','B1','B2','B3','B4','B5','B6'],\n",
    "        'Media': ['Media_1']*3 + ['Media_2']*3 + ['Media_3']*3 + ['Media_4']*3,\n",
    "        'Replicate': [1,2,3,1,2,3,1,2,3,1,2,3],\n",
    "        'Condition': ['OD24_Manual']*12\n",
    "    }),\n",
    "    'OD24_Robot': pd.DataFrame({\n",
    "        'WellID': ['A1','A2','A3','A4','A5','A6','D4','D5','D6','B1','B2','B3','B4','B5','B6'],\n",
    "        'Media': ['Media_1']*3 + ['Media_2']*6 + ['Media_3']*3 + ['Media_4']*3,\n",
    "        'Replicate': [1,2,3,1,2,3,4,5,6,1,2,3,1,2,3],\n",
    "        'Condition': ['OD24_Robot']*15\n",
    "    })\n",
    "}\n",
    "\n",
    "def load_and_tidy(sheet_name):\n",
    "    # Load sheet\n",
    "    df = pd.read_excel(pathxlsx, sheet_name=sheet_name, header=0)\n",
    "\n",
    "    # Melt to long format\n",
    "    long_df = df.melt(id_vars='Time (min)', var_name='WellID', value_name='OD600')\n",
    "\n",
    "    # Convert time to hours\n",
    "    long_df['Time'] = long_df['Time (min)'] / 60\n",
    "    long_df = long_df.drop(columns=['Time (min)'])\n",
    "\n",
    "    # Filter mapping for wells present in this sheet\n",
    "    mapping_filtered = mappings[sheet_name][mappings[sheet_name]['WellID'].isin(long_df['WellID'].unique())]\n",
    "\n",
    "    # Merge\n",
    "    long_df = long_df.merge(mapping_filtered, on='WellID')\n",
    "\n",
    "    # Sort and reset index\n",
    "    long_df = long_df.sort_values(by=['Condition','Media','Replicate','Time']).reset_index(drop=True)\n",
    "\n",
    "    return long_df\n",
    "\n",
    "# Load all sheets and combine\n",
    "all_long_dfs = []\n",
    "for sheet in mappings.keys():\n",
    "    tidy_df = load_and_tidy(sheet)\n",
    "    all_long_dfs.append(tidy_df)\n",
    "\n",
    "full_long_df = pd.concat(all_long_dfs, ignore_index=True)\n",
    "\n",
    "print(full_long_df.head())\n"
   ]
  },
  {
   "cell_type": "code",
   "execution_count": 12,
   "metadata": {},
   "outputs": [],
   "source": [
    "full_long_df.to_csv('data/GrowthProfilerResults_Long_Pretest.csv', index=False)"
   ]
  }
 ],
 "metadata": {
  "kernelspec": {
   "display_name": "venv",
   "language": "python",
   "name": "python3"
  },
  "language_info": {
   "codemirror_mode": {
    "name": "ipython",
    "version": 3
   },
   "file_extension": ".py",
   "mimetype": "text/x-python",
   "name": "python",
   "nbconvert_exporter": "python",
   "pygments_lexer": "ipython3",
   "version": "3.13.2"
  }
 },
 "nbformat": 4,
 "nbformat_minor": 2
}
