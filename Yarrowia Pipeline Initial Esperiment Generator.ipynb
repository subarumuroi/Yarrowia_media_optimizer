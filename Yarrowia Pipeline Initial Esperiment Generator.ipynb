{
 "cells": [
  {
   "cell_type": "markdown",
   "id": "5b1d5e39",
   "metadata": {},
   "source": [
    "# Yarrowia Media Matrix \n",
    "\n",
    "### Takes generated media matrix and clusters groups for dimensionality reduction. Arbitrarily sets bounds and cluster groups, then uses LHS to sample points within bounds for initial experimental set."
   ]
  },
  {
   "cell_type": "code",
   "execution_count": null,
   "id": "d845db51",
   "metadata": {},
   "outputs": [],
   "source": []
  }
 ],
 "metadata": {
  "language_info": {
   "name": "python"
  }
 },
 "nbformat": 4,
 "nbformat_minor": 5
}
